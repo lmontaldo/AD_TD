{
  "nbformat": 4,
  "nbformat_minor": 0,
  "metadata": {
    "colab": {
      "provenance": []
    },
    "kernelspec": {
      "name": "python3",
      "display_name": "Python 3"
    },
    "language_info": {
      "name": "python"
    }
  },
  "cells": [
    {
      "cell_type": "code",
      "source": [
        "import warnings\n",
        "warnings.filterwarnings(\"ignore\")"
      ],
      "metadata": {
        "id": "V2q_ge82Eywf"
      },
      "execution_count": null,
      "outputs": []
    },
    {
      "cell_type": "markdown",
      "source": [
        "A basket of stocks can be used to generate portfolios using machine learning’s principal component analysis(PCA). Traditionally PCA is used in machine learning to reduce the number of features while maintaining the variability in the data. This can be leveraged to build different portfolios. Each of these portfolios’ Sharpe ratio can be calculated to find out the most optimized portfolio."
      ],
      "metadata": {
        "id": "ao8YNYv1gR__"
      }
    },
    {
      "cell_type": "code",
      "source": [
        "import yfinance as yf\n",
        "import datetime"
      ],
      "metadata": {
        "id": "F8BgTuO3lhPV"
      },
      "execution_count": null,
      "outputs": []
    },
    {
      "cell_type": "markdown",
      "source": [
        "## **Question 1 : import the basket of asset AAPL, AMGN and AXP using YahooFinance. The start date is 2020 Jan. 1rst, the end yesterday**"
      ],
      "metadata": {
        "id": "ewEBAQgzlW2l"
      }
    },
    {
      "cell_type": "markdown",
      "source": [
        "The dataframe will be named data"
      ],
      "metadata": {
        "id": "9QuZd3TAgne7"
      }
    },
    {
      "cell_type": "code",
      "source": [],
      "metadata": {
        "id": "aaAr9G4Alkkf"
      },
      "execution_count": null,
      "outputs": []
    },
    {
      "cell_type": "markdown",
      "source": [
        "## **Question 2 : preprocessing**"
      ],
      "metadata": {
        "id": "9SG3pIa0gm5Y"
      }
    },
    {
      "cell_type": "markdown",
      "source": [
        "Remove stocks that are missing more than 30% of the data"
      ],
      "metadata": {
        "id": "YQ7isM58mBjG"
      }
    },
    {
      "cell_type": "code",
      "source": [],
      "metadata": {
        "id": "Ma6rGfT3gsQ3"
      },
      "execution_count": null,
      "outputs": []
    },
    {
      "cell_type": "markdown",
      "source": [
        "Check the remaining for missing values. Fill missing values with the last available data with the method fillna of the Pandas library"
      ],
      "metadata": {
        "id": "X1RKZ1SJmNRO"
      }
    },
    {
      "cell_type": "code",
      "source": [],
      "metadata": {
        "id": "nezAzCwog3as"
      },
      "execution_count": null,
      "outputs": []
    },
    {
      "cell_type": "markdown",
      "source": [
        "Drop the row 0 which is containing NAN"
      ],
      "metadata": {
        "id": "aL61UJXJmcCu"
      }
    },
    {
      "cell_type": "code",
      "source": [],
      "metadata": {
        "id": "-OgeJsicg4uc"
      },
      "execution_count": null,
      "outputs": []
    },
    {
      "cell_type": "markdown",
      "source": [
        "## **Question 3**"
      ],
      "metadata": {
        "id": "7nyynUJwg3wY"
      }
    },
    {
      "cell_type": "markdown",
      "source": [
        "Calculate the percentage of change of the adj closing price from one day to the next. The new dataframe will be named data_return"
      ],
      "metadata": {
        "id": "2lWGhpQammTf"
      }
    },
    {
      "cell_type": "code",
      "source": [],
      "metadata": {
        "id": "ZrQ4b9etg-uo"
      },
      "execution_count": null,
      "outputs": []
    },
    {
      "cell_type": "markdown",
      "source": [
        "Remove Outliers beyond 3 standard deviations"
      ],
      "metadata": {
        "id": "02t3ZWpRmssY"
      }
    },
    {
      "cell_type": "code",
      "source": [],
      "metadata": {
        "id": "qdI30JyThH0t"
      },
      "execution_count": null,
      "outputs": []
    },
    {
      "cell_type": "markdown",
      "source": [
        "## **Question 4**"
      ],
      "metadata": {
        "id": "PL70K4mkhI1Z"
      }
    },
    {
      "cell_type": "markdown",
      "source": [
        "Standardize the data so mean is zero and variance is 1. The new dataframe is named rescaled_data"
      ],
      "metadata": {
        "id": "ynV-VGLLnCZH"
      }
    },
    {
      "cell_type": "code",
      "source": [
        "import pandas as pd\n",
        "from sklearn.preprocessing import StandardScaler"
      ],
      "metadata": {
        "id": "dE03_uTIm91G"
      },
      "execution_count": null,
      "outputs": []
    },
    {
      "cell_type": "code",
      "source": [],
      "metadata": {
        "id": "OgNMGFtqhMuI"
      },
      "execution_count": null,
      "outputs": []
    },
    {
      "cell_type": "markdown",
      "source": [
        "Summarize transformed data"
      ],
      "metadata": {
        "id": "pj6I-CggnJk3"
      }
    },
    {
      "cell_type": "code",
      "source": [],
      "metadata": {
        "id": "d51oFpjvhZBV"
      },
      "execution_count": null,
      "outputs": []
    },
    {
      "cell_type": "markdown",
      "source": [
        "## **Question 5**"
      ],
      "metadata": {
        "id": "V3lgeKpwhWGZ"
      }
    },
    {
      "cell_type": "markdown",
      "source": [
        "Split the data into test and train so we can try to backtest using the test dataset. The two datasets wil be named X_test and X_traib. We will use the raw dataset to create returns for different portfolios."
      ],
      "metadata": {
        "id": "CWIAEqL1nSwp"
      }
    },
    {
      "cell_type": "code",
      "source": [],
      "metadata": {
        "id": "_ZtzNAXWhUnB"
      },
      "execution_count": null,
      "outputs": []
    },
    {
      "cell_type": "markdown",
      "source": [
        "## **Question 6**"
      ],
      "metadata": {
        "id": "PcGd-uMthhUq"
      }
    },
    {
      "cell_type": "markdown",
      "source": [
        "## **An example**"
      ],
      "metadata": {
        "id": "74TmEqy6AQ7t"
      }
    },
    {
      "cell_type": "code",
      "source": [
        "from sklearn.decomposition import PCA\n",
        "import numpy as np"
      ],
      "metadata": {
        "id": "Eaq-8k3uhvGF"
      },
      "execution_count": 1,
      "outputs": []
    },
    {
      "cell_type": "code",
      "source": [
        "X = np.array([[-1, -1,5], [-2, -1,5], [-3, -2,1], [1, 1,0], [2, 1,-1], [3, 2,4]])\n",
        "X"
      ],
      "metadata": {
        "colab": {
          "base_uri": "https://localhost:8080/"
        },
        "id": "oahQT-N5_w40",
        "outputId": "41da8d22-9f19-45b6-d54e-2384971e0abf"
      },
      "execution_count": 2,
      "outputs": [
        {
          "output_type": "execute_result",
          "data": {
            "text/plain": [
              "array([[-1, -1,  5],\n",
              "       [-2, -1,  5],\n",
              "       [-3, -2,  1],\n",
              "       [ 1,  1,  0],\n",
              "       [ 2,  1, -1],\n",
              "       [ 3,  2,  4]])"
            ]
          },
          "metadata": {},
          "execution_count": 2
        }
      ]
    },
    {
      "cell_type": "markdown",
      "source": [
        "## **Our usecase**"
      ],
      "metadata": {
        "id": "KjyjmeYXAdE1"
      }
    },
    {
      "cell_type": "markdown",
      "source": [
        "Apply PCA on the train dataset"
      ],
      "metadata": {
        "id": "oO-YiwEkncAP"
      }
    },
    {
      "cell_type": "code",
      "source": [],
      "metadata": {
        "id": "0G-0NbCKh1HX"
      },
      "execution_count": null,
      "outputs": []
    },
    {
      "cell_type": "markdown",
      "source": [
        "Display the PCA components"
      ],
      "metadata": {
        "id": "komLcpVcnh3Q"
      }
    },
    {
      "cell_type": "code",
      "source": [],
      "metadata": {
        "id": "rbKqYA8th20-"
      },
      "execution_count": null,
      "outputs": []
    },
    {
      "cell_type": "markdown",
      "source": [
        "Plot the zero-th and third PCA component. What is their meaning"
      ],
      "metadata": {
        "id": "hXew-VfeBRMe"
      }
    },
    {
      "cell_type": "code",
      "source": [
        "import matplotlib.pyplot as plt"
      ],
      "metadata": {
        "id": "5Xupo8rBB0Co"
      },
      "execution_count": null,
      "outputs": []
    },
    {
      "cell_type": "markdown",
      "source": [
        "What is the explained variance ratio of each component?"
      ],
      "metadata": {
        "id": "zEjvdqBgnm9g"
      }
    },
    {
      "cell_type": "code",
      "source": [],
      "metadata": {
        "id": "qXmaciyAh5qG"
      },
      "execution_count": null,
      "outputs": []
    }
  ]
}