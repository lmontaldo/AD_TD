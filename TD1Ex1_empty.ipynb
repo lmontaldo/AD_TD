{
  "cells": [
    {
      "cell_type": "code",
      "source": [
        "import numpy as np\n",
        "import pandas as pd"
      ],
      "metadata": {
        "id": "U9VblqmVFpj6"
      },
      "execution_count": null,
      "outputs": []
    },
    {
      "cell_type": "markdown",
      "source": [
        "## **Question 1**"
      ],
      "metadata": {
        "id": "a0tTEyxeFsL5"
      }
    },
    {
      "cell_type": "markdown",
      "source": [
        "Import the dataset mamals.csv."
      ],
      "metadata": {
        "id": "UzqwPonHF2-6"
      }
    },
    {
      "cell_type": "code",
      "source": [],
      "metadata": {
        "id": "goSGUTSbiHjm"
      },
      "execution_count": null,
      "outputs": []
    },
    {
      "cell_type": "markdown",
      "source": [
        "Handle missing values with fillna()"
      ],
      "metadata": {
        "id": "1Wo9perofjgg"
      }
    },
    {
      "cell_type": "code",
      "source": [],
      "metadata": {
        "id": "nuY40lhOiI4W"
      },
      "execution_count": null,
      "outputs": []
    },
    {
      "cell_type": "markdown",
      "source": [
        "Check that there is no more missing values"
      ],
      "metadata": {
        "id": "MRMaZqXNfn_B"
      }
    },
    {
      "cell_type": "code",
      "source": [],
      "metadata": {
        "id": "JrKzaNlGiK2W"
      },
      "execution_count": null,
      "outputs": []
    },
    {
      "cell_type": "markdown",
      "source": [
        "## **Question 2**"
      ],
      "metadata": {
        "id": "CNn9CiCifueZ"
      }
    },
    {
      "cell_type": "markdown",
      "source": [
        "## **Question 2-a**"
      ],
      "metadata": {
        "id": "xHPHk0XhgAPQ"
      }
    },
    {
      "cell_type": "markdown",
      "source": [
        "Perform a PCA"
      ],
      "metadata": {
        "id": "tzFUc__YfsyR"
      }
    },
    {
      "cell_type": "code",
      "source": [
        "from sklearn.decomposition import PCA"
      ],
      "metadata": {
        "id": "ANKmG74eG2id"
      },
      "execution_count": null,
      "outputs": []
    },
    {
      "cell_type": "markdown",
      "source": [
        "## **Question 2-b**"
      ],
      "metadata": {
        "id": "8bqDJh48GLsa"
      }
    },
    {
      "cell_type": "markdown",
      "source": [
        "Plot the dataset in the new PC coordinates"
      ],
      "metadata": {
        "id": "iimt2EqTiNxF"
      }
    },
    {
      "cell_type": "code",
      "source": [
        "import matplotlib.pyplot as plt"
      ],
      "metadata": {
        "id": "4TSAHu_ugPCK"
      },
      "execution_count": null,
      "outputs": []
    },
    {
      "cell_type": "markdown",
      "metadata": {
        "id": "hEW44Kyl_fb9"
      },
      "source": [
        "## **Question 3**"
      ]
    },
    {
      "cell_type": "markdown",
      "source": [
        "Same questions after standardizing the data"
      ],
      "metadata": {
        "id": "nFuZanPNiUIW"
      }
    },
    {
      "cell_type": "code",
      "execution_count": null,
      "metadata": {
        "id": "lPFFKE3U_fb-"
      },
      "outputs": [],
      "source": [
        "from sklearn.preprocessing import StandardScaler"
      ]
    },
    {
      "cell_type": "markdown",
      "metadata": {
        "id": "YGMy_sQY_fb-"
      },
      "source": [
        "PCA with Python"
      ]
    },
    {
      "cell_type": "code",
      "execution_count": null,
      "metadata": {
        "id": "_f2WlHFy_fb_"
      },
      "outputs": [],
      "source": []
    }
  ],
  "metadata": {
    "kernelspec": {
      "display_name": "Python 3",
      "language": "python",
      "name": "python3"
    },
    "language_info": {
      "codemirror_mode": {
        "name": "ipython",
        "version": 3
      },
      "file_extension": ".py",
      "mimetype": "text/x-python",
      "name": "python",
      "nbconvert_exporter": "python",
      "pygments_lexer": "ipython3",
      "version": "3.8.5"
    },
    "colab": {
      "provenance": []
    }
  },
  "nbformat": 4,
  "nbformat_minor": 0
}